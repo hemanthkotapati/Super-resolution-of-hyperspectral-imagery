{
 "cells": [
  {
   "cell_type": "code",
   "execution_count": 1,
   "id": "4857d21d",
   "metadata": {},
   "outputs": [],
   "source": [
    "import numpy as np\n",
    "import matplotlib.pyplot as plt\n",
    "import scipy.io\n",
    "import torch\n",
    "import torch.nn as nn\n",
    "import torch.optim as optim\n",
    "import torch.nn.functional as F\n",
    "from torch.utils.data import DataLoader, Dataset\n",
    "\n",
    "from tqdm import tqdm\n",
    "from scipy.io import loadmat\n",
    "\n",
    "import torchvision.transforms as T\n",
    "\n",
    "from sklearn.preprocessing import MinMaxScaler"
   ]
  },
  {
   "cell_type": "code",
   "execution_count": 3,
   "id": "05ab8498",
   "metadata": {},
   "outputs": [
    {
     "data": {
      "text/plain": [
       "device(type='cuda')"
      ]
     },
     "execution_count": 3,
     "metadata": {},
     "output_type": "execute_result"
    }
   ],
   "source": [
    "# use GPU if available\n",
    "device = torch.device('cuda' if torch.cuda.is_available() else 'cpu')\n",
    "device"
   ]
  },
  {
   "cell_type": "markdown",
   "id": "9f451dda",
   "metadata": {},
   "source": [
    "# Load HR patches"
   ]
  },
  {
   "cell_type": "code",
   "execution_count": 4,
   "id": "96fdc4ab",
   "metadata": {},
   "outputs": [
    {
     "name": "stdout",
     "output_type": "stream",
     "text": [
      "Shape of High-Resolution Patches Tensor: torch.Size([1200, 66, 66, 200])\n",
      "tensor(0., device='cuda:0') tensor(1.0000, device='cuda:0')\n"
     ]
    }
   ],
   "source": [
    "# hr_patches_file_path = \"D:\\\\Hemanth\\\\Dataset\\\\IP_hr_patches.mat\"\n",
    "# hr_patches_data = loadmat(hr_patches_file_path)\n",
    "\n",
    "# num_patches = 1201\n",
    "\n",
    "# hr_patches_list = [hr_patches_data[f'hr_patch_{i}'] for i in range(1, num_patches)]\n",
    "\n",
    "# hr_patches_array = np.array(hr_patches_list, dtype=np.float32)\n",
    "\n",
    "# reshaped_array = hr_patches_array.reshape(-1, hr_patches_array.shape[-1])\n",
    "\n",
    "# scaler = MinMaxScaler()\n",
    "# normalized_array = scaler.fit_transform(reshaped_array)\n",
    "\n",
    "# normalized_hr_patches_array = normalized_array.reshape(hr_patches_array.shape)\n",
    "\n",
    "# hr_patches_tensor = torch.tensor(normalized_hr_patches_array).to(device)\n",
    "\n",
    "# print(\"Shape of High-Resolution Patches Tensor:\", hr_patches_tensor.shape)\n",
    "# print(hr_patches_tensor.min(), hr_patches_tensor.max())"
   ]
  },
  {
   "cell_type": "code",
   "execution_count": 5,
   "id": "62760baf",
   "metadata": {},
   "outputs": [
    {
     "data": {
      "text/plain": [
       "torch.Size([1200, 200, 66, 66, 1])"
      ]
     },
     "execution_count": 5,
     "metadata": {},
     "output_type": "execute_result"
    }
   ],
   "source": [
    "# hr_patches_tensor = hr_patches_tensor.unsqueeze(4)\n",
    "# hr_patches_tensor = hr_patches_tensor.permute(0, 3, 1, 2, 4)\n",
    "# hr_patches_tensor.shape"
   ]
  },
  {
   "cell_type": "code",
   "execution_count": 13,
   "id": "46d93193",
   "metadata": {},
   "outputs": [
    {
     "name": "stdout",
     "output_type": "stream",
     "text": [
      "Shape of High-Resolution Patches Tensor: torch.Size([1200, 66, 66, 200])\n",
      "tensor(0., device='cuda:0') tensor(1.0000, device='cuda:0')\n"
     ]
    }
   ],
   "source": [
    "hr_patches_file_path = \"D:\\\\Hemanth\\\\Dataset\\\\IP_hr_patches.mat\"\n",
    "hr_patches_data = loadmat(hr_patches_file_path)\n",
    "\n",
    "num_patches = 1601\n",
    "\n",
    "hr_patches_list = [hr_patches_data[f'hr_patch_{i}'] for i in range(1, num_patches)]\n",
    "\n",
    "hr_patches_array = np.array(hr_patches_list, dtype=np.float32)\n",
    "\n",
    "reshaped_array = hr_patches_array.reshape(-1, hr_patches_array.shape[-1])\n",
    "\n",
    "# Normalize the patches\n",
    "scaler = MinMaxScaler()\n",
    "normalized_array = scaler.fit_transform(reshaped_array)\n",
    "\n",
    "total_array = normalized_array.reshape(hr_patches_array.shape)\n",
    "\n",
    "normalized_hr_patches_array = total_array[:1200]\n",
    "\n",
    "hr_patches_tensor = torch.tensor(normalized_hr_patches_array).to(device)\n",
    "\n",
    "print(\"Shape of High-Resolution Patches Tensor:\", hr_patches_tensor.shape)\n",
    "print(hr_patches_tensor.min(), hr_patches_tensor.max())"
   ]
  },
  {
   "cell_type": "code",
   "execution_count": 14,
   "id": "7720d311",
   "metadata": {},
   "outputs": [
    {
     "name": "stdout",
     "output_type": "stream",
     "text": [
      "Shape of High-Resolution Patches Tensor: torch.Size([400, 66, 66, 200])\n",
      "tensor(0., device='cuda:0') tensor(1.0000, device='cuda:0')\n"
     ]
    }
   ],
   "source": [
    "normalized_test_hr_array = total_array[1200:]\n",
    "\n",
    "test_hr_patches_tensor = torch.tensor(normalized_test_hr_array).to(device)\n",
    "\n",
    "print(\"Shape of High-Resolution Patches Tensor:\", test_hr_patches_tensor.shape)\n",
    "print(test_hr_patches_tensor.min(), test_hr_patches_tensor.max())"
   ]
  },
  {
   "cell_type": "code",
   "execution_count": 15,
   "id": "0424ef2c",
   "metadata": {},
   "outputs": [
    {
     "data": {
      "text/plain": [
       "torch.Size([1200, 200, 66, 66, 1])"
      ]
     },
     "execution_count": 15,
     "metadata": {},
     "output_type": "execute_result"
    }
   ],
   "source": [
    "hr_patches_tensor = hr_patches_tensor.unsqueeze(4)\n",
    "hr_patches_tensor = hr_patches_tensor.permute(0, 3, 1, 2, 4)\n",
    "hr_patches_tensor.shape"
   ]
  },
  {
   "cell_type": "code",
   "execution_count": 16,
   "id": "0b2e24dd",
   "metadata": {},
   "outputs": [
    {
     "data": {
      "text/plain": [
       "torch.Size([400, 200, 66, 66, 1])"
      ]
     },
     "execution_count": 16,
     "metadata": {},
     "output_type": "execute_result"
    }
   ],
   "source": [
    "test_hr_patches_tensor = test_hr_patches_tensor.unsqueeze(4)\n",
    "test_hr_patches_tensor = test_hr_patches_tensor.permute(0, 3, 1, 2, 4)\n",
    "test_hr_patches_tensor.shape"
   ]
  },
  {
   "cell_type": "markdown",
   "id": "b64d843b",
   "metadata": {},
   "source": [
    "# Load Bilinear LR patches"
   ]
  },
  {
   "cell_type": "code",
   "execution_count": null,
   "id": "dcc789d8",
   "metadata": {},
   "outputs": [],
   "source": [
    "# from scipy.ndimage import zoom\n",
    "\n",
    "# bilinear_lr_patches_file_path = \"D:\\\\Hemanth\\\\Dataset\\\\IP_lr_patches_bilinear.mat\"\n",
    "# bilinear_lr_patches_data = loadmat(bilinear_lr_patches_file_path)\n",
    "\n",
    "# bilinear_lr_patches_list = [bilinear_lr_patches_data[f'lr_patch_{i}'] for i in range(1, num_patches)]\n",
    "\n",
    "# # Upsample the patches using bilinear interpolation with a scale factor of 3x\n",
    "# upsampled_lr_patches_array = np.array([zoom(patch, zoom=(3,3,1), order=3) for patch in bilinear_lr_patches_list], dtype=np.float32)\n",
    "\n",
    "# # Reshape the upsampled array\n",
    "# reshaped_upsampled_lr_array = upsampled_lr_patches_array.reshape(-1, upsampled_lr_patches_array.shape[-1])\n",
    "\n",
    "# # Normalize the patches\n",
    "# normalized_lr_array = scaler.fit_transform(reshaped_upsampled_lr_array)\n",
    "\n",
    "# # Reshape the normalized array back to patch form\n",
    "# normalized_lr_patches_array = normalized_lr_array.reshape((num_patches-1, 66, 66, 200))\n",
    "\n",
    "# # Convert the normalized patches to a tensor\n",
    "# bilinear_lr_patches_tensor = torch.tensor(normalized_lr_patches_array).to(device)\n",
    "\n",
    "# # Print the shape of the tensor and min/max values\n",
    "# print(\"Shape of Low-Resolution Patches Tensor:\", bilinear_lr_patches_tensor.shape)\n",
    "# print(\"Min value:\", bilinear_lr_patches_tensor.min().item())\n",
    "# print(\"Max value:\", bilinear_lr_patches_tensor.max().item())\n"
   ]
  },
  {
   "cell_type": "code",
   "execution_count": null,
   "id": "e5c0b75d",
   "metadata": {},
   "outputs": [],
   "source": [
    "# bilinear_lr_patches_tensor = bilinear_lr_patches_tensor.unsqueeze(4)\n",
    "# bilinear_lr_patches_tensor = bilinear_lr_patches_tensor.permute(0, 3, 1, 2, 4)\n",
    "# bilinear_lr_patches_tensor.shape"
   ]
  },
  {
   "cell_type": "code",
   "execution_count": 17,
   "id": "4f69c438",
   "metadata": {},
   "outputs": [
    {
     "name": "stdout",
     "output_type": "stream",
     "text": [
      "Shape of High-Resolution Patches Tensor: torch.Size([1200, 66, 66, 200])\n",
      "tensor(0., device='cuda:0') tensor(1.0000, device='cuda:0')\n"
     ]
    }
   ],
   "source": [
    "from scipy.ndimage import zoom\n",
    "\n",
    "bilinear_lr_patches_file_path = \"D:\\\\Hemanth\\\\Dataset\\\\IP_lr_patches_bilinear.mat\"\n",
    "bilinear_lr_patches_data = loadmat(bilinear_lr_patches_file_path)\n",
    "\n",
    "num_patches = 1601\n",
    "\n",
    "bilinear_lr_patches_list = [bilinear_lr_patches_data[f'lr_patch_{i}'] for i in range(1, num_patches)]\n",
    "\n",
    "upsampled_lr_patches_array = np.array([zoom(patch, zoom=(3,3,1), order=3) for patch in bilinear_lr_patches_list], dtype=np.float32)\n",
    "\n",
    "reshaped_upsampled_lr_array = upsampled_lr_patches_array.reshape(-1, upsampled_lr_patches_array.shape[-1])\n",
    "\n",
    "normalized_lr_array = scaler.fit_transform(reshaped_upsampled_lr_array)\n",
    "\n",
    "total_lr_array = normalized_lr_array.reshape((num_patches-1, 66, 66, 200))\n",
    "\n",
    "normalized_lr_patches_array = total_lr_array[:1200]\n",
    "\n",
    "bilinear_lr_patches_tensor = torch.tensor(normalized_lr_patches_array).to(device)\n",
    "\n",
    "print(\"Shape of High-Resolution Patches Tensor:\", bilinear_lr_patches_tensor.shape)\n",
    "print(bilinear_lr_patches_tensor.min(), bilinear_lr_patches_tensor.max())"
   ]
  },
  {
   "cell_type": "code",
   "execution_count": 18,
   "id": "589e61c8",
   "metadata": {},
   "outputs": [
    {
     "name": "stdout",
     "output_type": "stream",
     "text": [
      "Shape of High-Resolution Patches Tensor: torch.Size([400, 66, 66, 200])\n",
      "tensor(0., device='cuda:0') tensor(1., device='cuda:0')\n"
     ]
    }
   ],
   "source": [
    "normalized_test_lr_array = total_lr_array[1200:]\n",
    "\n",
    "test_bilinear_lr_patches_tensor = torch.tensor(normalized_test_lr_array).to(device)\n",
    "\n",
    "print(\"Shape of High-Resolution Patches Tensor:\", test_bilinear_lr_patches_tensor.shape)\n",
    "print(test_bilinear_lr_patches_tensor.min(), test_bilinear_lr_patches_tensor.max())"
   ]
  },
  {
   "cell_type": "code",
   "execution_count": 19,
   "id": "80d4b7a7",
   "metadata": {},
   "outputs": [
    {
     "data": {
      "text/plain": [
       "torch.Size([1200, 200, 66, 66, 1])"
      ]
     },
     "execution_count": 19,
     "metadata": {},
     "output_type": "execute_result"
    }
   ],
   "source": [
    "bilinear_lr_patches_tensor = bilinear_lr_patches_tensor.unsqueeze(4)\n",
    "bilinear_lr_patches_tensor = bilinear_lr_patches_tensor.permute(0, 3, 1, 2, 4)\n",
    "bilinear_lr_patches_tensor.shape"
   ]
  },
  {
   "cell_type": "code",
   "execution_count": 20,
   "id": "613cb41a",
   "metadata": {},
   "outputs": [
    {
     "data": {
      "text/plain": [
       "torch.Size([400, 200, 66, 66, 1])"
      ]
     },
     "execution_count": 20,
     "metadata": {},
     "output_type": "execute_result"
    }
   ],
   "source": [
    "test_bilinear_lr_patches_tensor = test_bilinear_lr_patches_tensor.unsqueeze(4)\n",
    "test_bilinear_lr_patches_tensor = test_bilinear_lr_patches_tensor.permute(0, 3, 1, 2, 4)\n",
    "test_bilinear_lr_patches_tensor.shape"
   ]
  },
  {
   "cell_type": "markdown",
   "id": "f3e863b3",
   "metadata": {},
   "source": [
    "# PARAMETERS"
   ]
  },
  {
   "cell_type": "code",
   "execution_count": 33,
   "id": "6a470cb7",
   "metadata": {},
   "outputs": [
    {
     "name": "stdout",
     "output_type": "stream",
     "text": [
      "200 66 66\n"
     ]
    }
   ],
   "source": [
    "num_channels = hr_patches_tensor.shape[1]\n",
    "hr_dimensions = hr_patches_tensor.shape[2]\n",
    "lr_dimensions = bilinear_lr_patches_tensor.shape[2]\n",
    "batch_size = 30\n",
    "\n",
    "print(num_channels, hr_dimensions, lr_dimensions)"
   ]
  },
  {
   "cell_type": "markdown",
   "id": "206fe4b4",
   "metadata": {},
   "source": [
    "# DATALOADER"
   ]
  },
  {
   "cell_type": "code",
   "execution_count": null,
   "id": "455e6007",
   "metadata": {},
   "outputs": [],
   "source": [
    "# hr_data_loader = DataLoader(dataset = hr_patches_tensor,\n",
    "#                          batch_size = batch_size,\n",
    "#                          shuffle = False\n",
    "#                          )\n",
    "\n",
    "# lr_data_loader = DataLoader(dataset = bilinear_lr_patches_tensor,\n",
    "#                          batch_size = batch_size,\n",
    "#                          shuffle = False\n",
    "#                          )"
   ]
  },
  {
   "cell_type": "code",
   "execution_count": 35,
   "id": "b686f7b9",
   "metadata": {},
   "outputs": [],
   "source": [
    "from torch.utils.data import Dataset, DataLoader\n",
    "\n",
    "class CustomDataset(Dataset):\n",
    "    def __init__(self, hr_data, lr_data):\n",
    "        self.hr_data = hr_data\n",
    "        self.lr_data = lr_data\n",
    "\n",
    "    def __len__(self):\n",
    "        return len(self.hr_data)\n",
    "\n",
    "    def __getitem__(self, idx):\n",
    "        hr_sample = self.hr_data[idx]\n",
    "        lr_sample = self.lr_data[idx]\n",
    "        return hr_sample, lr_sample\n"
   ]
  },
  {
   "cell_type": "code",
   "execution_count": 36,
   "id": "41b095d5",
   "metadata": {},
   "outputs": [],
   "source": [
    "custom_dataset = CustomDataset(hr_patches_tensor, bilinear_lr_patches_tensor)\n",
    "data_loader = DataLoader(custom_dataset, batch_size=batch_size, shuffle=True)"
   ]
  },
  {
   "cell_type": "markdown",
   "id": "931a3431",
   "metadata": {},
   "source": [
    "# Structure the model"
   ]
  },
  {
   "cell_type": "code",
   "execution_count": 24,
   "id": "778a5f69",
   "metadata": {},
   "outputs": [
    {
     "name": "stdout",
     "output_type": "stream",
     "text": [
      "Autoencoder3D(\n",
      "  (encoder): Sequential(\n",
      "    (0): Conv3d(200, 512, kernel_size=(3, 3, 1), stride=(1, 1, 1), padding=(1, 1, 0))\n",
      "    (1): ReLU()\n",
      "    (2): Conv3d(512, 256, kernel_size=(3, 3, 1), stride=(1, 1, 1), padding=(1, 1, 0))\n",
      "    (3): ReLU()\n",
      "    (4): Conv3d(256, 128, kernel_size=(3, 3, 1), stride=(1, 1, 1), padding=(1, 1, 0))\n",
      "    (5): ReLU()\n",
      "    (6): Conv3d(128, 64, kernel_size=(3, 3, 1), stride=(1, 1, 1), padding=(1, 1, 0))\n",
      "    (7): ReLU()\n",
      "  )\n",
      "  (decoder): Sequential(\n",
      "    (0): ConvTranspose3d(64, 128, kernel_size=(3, 3, 1), stride=(1, 1, 1), padding=(1, 1, 0))\n",
      "    (1): ReLU()\n",
      "    (2): ConvTranspose3d(128, 256, kernel_size=(3, 3, 1), stride=(1, 1, 1), padding=(1, 1, 0))\n",
      "    (3): ReLU()\n",
      "    (4): ConvTranspose3d(256, 512, kernel_size=(3, 3, 1), stride=(1, 1, 1), padding=(1, 1, 0))\n",
      "    (5): ReLU()\n",
      "    (6): ConvTranspose3d(512, 200, kernel_size=(3, 3, 1), stride=(1, 1, 1), padding=(1, 1, 0))\n",
      "    (7): Sigmoid()\n",
      "  )\n",
      ")\n"
     ]
    }
   ],
   "source": [
    "class Autoencoder3D(nn.Module):\n",
    "    def __init__(self):\n",
    "        super(Autoencoder3D, self).__init__()\n",
    "\n",
    "        # Encoder\n",
    "        self.encoder = nn.Sequential(\n",
    "            nn.Conv3d(num_channels, 512, (3,3,1), 1, (1,1,0)),\n",
    "            nn.ReLU(),\n",
    "            nn.Conv3d(512, 256, (3,3,1), 1, (1,1,0)),\n",
    "            nn.ReLU(),\n",
    "            nn.Conv3d(256, 128,  (3,3,1), 1, (1,1,0)),\n",
    "            nn.ReLU(),\n",
    "            nn.Conv3d(128, 64,  (3,3,1), 1, (1,1,0)),\n",
    "            nn.ReLU()\n",
    "        )\n",
    "\n",
    "        # Decoder\n",
    "        self.decoder = nn.Sequential(\n",
    "            nn.ConvTranspose3d(64 , 128, (3,3,1), 1, (1,1,0)),\n",
    "            nn.ReLU(),\n",
    "            nn.ConvTranspose3d(128 , 256, (3,3,1), 1, (1,1,0)),\n",
    "            nn.ReLU(),\n",
    "            nn.ConvTranspose3d(256 , 512, (3,3,1), 1, (1,1,0)),\n",
    "            nn.ReLU(),\n",
    "            nn.ConvTranspose3d(512 ,num_channels, (3,3,1), 1, (1,1,0)),\n",
    "            nn.Sigmoid()\n",
    "        )\n",
    "\n",
    "    def forward(self, x):\n",
    "        x = self.encoder(x)\n",
    "        x = self.decoder(x)\n",
    "        return x\n",
    "\n",
    "encoder = Autoencoder3D().to(device)\n",
    "print(encoder)"
   ]
  },
  {
   "cell_type": "code",
   "execution_count": 8,
   "id": "ccae60e4",
   "metadata": {},
   "outputs": [],
   "source": [
    "# import torch\n",
    "# import torch.nn as nn\n",
    "\n",
    "# class Autoencoder3D(nn.Module):\n",
    "#     def __init__(self, patch_size, num_channels):\n",
    "#         super(Autoencoder3D, self).__init__()\n",
    "\n",
    "#         # Encoder\n",
    "#         self.encoder = nn.Sequential(\n",
    "#             nn.Conv3d(num_channels, 128, kernel_size=3, padding=1),\n",
    "#             nn.ReLU(),\n",
    "#             nn.Conv3d(128, 64, kernel_size=3, padding=1),\n",
    "#             nn.ReLU()\n",
    "#         )\n",
    "\n",
    "#         # Latent layer\n",
    "#         # self.latent = nn.Conv3d(256, 32, kernel_size=3, padding=1)\n",
    "\n",
    "#         # Decoder\n",
    "#         self.decoder = nn.Sequential(\n",
    "#             nn.ConvTranspose3d(64, 128, kernel_size=3, padding=1),  \n",
    "#             nn.ReLU(),\n",
    "#             nn.ConvTranspose3d(128, num_channels, kernel_size=3, padding=1),\n",
    "#             nn.Sigmoid()\n",
    "#         )\n",
    "\n",
    "#     def forward(self, x):\n",
    "#         x = self.encoder(x)\n",
    "#         # x = self.latent(x)\n",
    "#         x = self.decoder(x)\n",
    "#         return x\n"
   ]
  },
  {
   "cell_type": "markdown",
   "id": "b48e7723",
   "metadata": {},
   "source": [
    "# Training"
   ]
  },
  {
   "cell_type": "code",
   "execution_count": 25,
   "id": "b2858a6c",
   "metadata": {},
   "outputs": [],
   "source": [
    "def rmse_loss(input, target):\n",
    "    return torch.sqrt(F.mse_loss(input, target))\n",
    "\n",
    "def sam_loss(input, target):\n",
    "    input_norm = F.normalize(input.reshape(input.size(0), -1), dim=1)\n",
    "    target_norm = F.normalize(target.reshape(target.size(0), -1), dim=1)\n",
    "    return torch.acos((input_norm * target_norm).sum(dim=1)).mean()"
   ]
  },
  {
   "cell_type": "code",
   "execution_count": 37,
   "id": "77f8fed2",
   "metadata": {},
   "outputs": [],
   "source": [
    "optimizer = optim.Adam(encoder.parameters(), lr = 0.00001)"
   ]
  },
  {
   "cell_type": "code",
   "execution_count": 38,
   "id": "570f0bca",
   "metadata": {},
   "outputs": [
    {
     "name": "stderr",
     "output_type": "stream",
     "text": [
      "100%|██████████| 40/40 [00:05<00:00,  7.05it/s]\n"
     ]
    },
    {
     "name": "stdout",
     "output_type": "stream",
     "text": [
      "Epoch [1/150], Loss: 0.1213509738445282\n"
     ]
    },
    {
     "name": "stderr",
     "output_type": "stream",
     "text": [
      "100%|██████████| 40/40 [00:04<00:00,  8.42it/s]\n"
     ]
    },
    {
     "name": "stdout",
     "output_type": "stream",
     "text": [
      "Epoch [2/150], Loss: 0.12452326714992523\n"
     ]
    },
    {
     "name": "stderr",
     "output_type": "stream",
     "text": [
      "100%|██████████| 40/40 [00:04<00:00,  8.36it/s]\n"
     ]
    },
    {
     "name": "stdout",
     "output_type": "stream",
     "text": [
      "Epoch [3/150], Loss: 0.11869528889656067\n"
     ]
    },
    {
     "name": "stderr",
     "output_type": "stream",
     "text": [
      "100%|██████████| 40/40 [00:04<00:00,  8.36it/s]\n"
     ]
    },
    {
     "name": "stdout",
     "output_type": "stream",
     "text": [
      "Epoch [4/150], Loss: 0.11661259084939957\n"
     ]
    },
    {
     "name": "stderr",
     "output_type": "stream",
     "text": [
      "100%|██████████| 40/40 [00:04<00:00,  8.33it/s]\n"
     ]
    },
    {
     "name": "stdout",
     "output_type": "stream",
     "text": [
      "Epoch [5/150], Loss: 0.1169961467385292\n"
     ]
    },
    {
     "name": "stderr",
     "output_type": "stream",
     "text": [
      "100%|██████████| 40/40 [00:04<00:00,  8.25it/s]\n"
     ]
    },
    {
     "name": "stdout",
     "output_type": "stream",
     "text": [
      "Epoch [6/150], Loss: 0.11130895465612411\n"
     ]
    },
    {
     "name": "stderr",
     "output_type": "stream",
     "text": [
      "100%|██████████| 40/40 [00:04<00:00,  8.25it/s]\n"
     ]
    },
    {
     "name": "stdout",
     "output_type": "stream",
     "text": [
      "Epoch [7/150], Loss: 0.11024072021245956\n"
     ]
    },
    {
     "name": "stderr",
     "output_type": "stream",
     "text": [
      "100%|██████████| 40/40 [00:04<00:00,  8.25it/s]\n"
     ]
    },
    {
     "name": "stdout",
     "output_type": "stream",
     "text": [
      "Epoch [8/150], Loss: 0.10816545784473419\n"
     ]
    },
    {
     "name": "stderr",
     "output_type": "stream",
     "text": [
      "100%|██████████| 40/40 [00:04<00:00,  8.25it/s]\n"
     ]
    },
    {
     "name": "stdout",
     "output_type": "stream",
     "text": [
      "Epoch [9/150], Loss: 0.10512064397335052\n"
     ]
    },
    {
     "name": "stderr",
     "output_type": "stream",
     "text": [
      "100%|██████████| 40/40 [00:04<00:00,  8.22it/s]\n"
     ]
    },
    {
     "name": "stdout",
     "output_type": "stream",
     "text": [
      "Epoch [10/150], Loss: 0.10425086319446564\n"
     ]
    },
    {
     "name": "stderr",
     "output_type": "stream",
     "text": [
      "100%|██████████| 40/40 [00:04<00:00,  8.25it/s]\n"
     ]
    },
    {
     "name": "stdout",
     "output_type": "stream",
     "text": [
      "Epoch [11/150], Loss: 0.10606531798839569\n"
     ]
    },
    {
     "name": "stderr",
     "output_type": "stream",
     "text": [
      "100%|██████████| 40/40 [00:04<00:00,  8.22it/s]\n"
     ]
    },
    {
     "name": "stdout",
     "output_type": "stream",
     "text": [
      "Epoch [12/150], Loss: 0.10529182851314545\n"
     ]
    },
    {
     "name": "stderr",
     "output_type": "stream",
     "text": [
      "100%|██████████| 40/40 [00:04<00:00,  8.36it/s]\n"
     ]
    },
    {
     "name": "stdout",
     "output_type": "stream",
     "text": [
      "Epoch [13/150], Loss: 0.10263566672801971\n"
     ]
    },
    {
     "name": "stderr",
     "output_type": "stream",
     "text": [
      "100%|██████████| 40/40 [00:04<00:00,  8.42it/s]\n"
     ]
    },
    {
     "name": "stdout",
     "output_type": "stream",
     "text": [
      "Epoch [14/150], Loss: 0.10524545609951019\n"
     ]
    },
    {
     "name": "stderr",
     "output_type": "stream",
     "text": [
      "100%|██████████| 40/40 [00:04<00:00,  8.29it/s]\n"
     ]
    },
    {
     "name": "stdout",
     "output_type": "stream",
     "text": [
      "Epoch [15/150], Loss: 0.10375935584306717\n"
     ]
    },
    {
     "name": "stderr",
     "output_type": "stream",
     "text": [
      "100%|██████████| 40/40 [00:04<00:00,  8.39it/s]\n"
     ]
    },
    {
     "name": "stdout",
     "output_type": "stream",
     "text": [
      "Epoch [16/150], Loss: 0.10311022400856018\n"
     ]
    },
    {
     "name": "stderr",
     "output_type": "stream",
     "text": [
      "100%|██████████| 40/40 [00:04<00:00,  8.37it/s]\n"
     ]
    },
    {
     "name": "stdout",
     "output_type": "stream",
     "text": [
      "Epoch [17/150], Loss: 0.10256943851709366\n"
     ]
    },
    {
     "name": "stderr",
     "output_type": "stream",
     "text": [
      "100%|██████████| 40/40 [00:04<00:00,  8.36it/s]\n"
     ]
    },
    {
     "name": "stdout",
     "output_type": "stream",
     "text": [
      "Epoch [18/150], Loss: 0.10070914030075073\n"
     ]
    },
    {
     "name": "stderr",
     "output_type": "stream",
     "text": [
      "100%|██████████| 40/40 [00:04<00:00,  8.46it/s]\n"
     ]
    },
    {
     "name": "stdout",
     "output_type": "stream",
     "text": [
      "Epoch [19/150], Loss: 0.10020899772644043\n"
     ]
    },
    {
     "name": "stderr",
     "output_type": "stream",
     "text": [
      "100%|██████████| 40/40 [00:04<00:00,  8.43it/s]\n"
     ]
    },
    {
     "name": "stdout",
     "output_type": "stream",
     "text": [
      "Epoch [20/150], Loss: 0.10091083496809006\n"
     ]
    },
    {
     "name": "stderr",
     "output_type": "stream",
     "text": [
      "100%|██████████| 40/40 [00:04<00:00,  8.22it/s]\n"
     ]
    },
    {
     "name": "stdout",
     "output_type": "stream",
     "text": [
      "Epoch [21/150], Loss: 0.1001318097114563\n"
     ]
    },
    {
     "name": "stderr",
     "output_type": "stream",
     "text": [
      "100%|██████████| 40/40 [00:04<00:00,  8.41it/s]\n"
     ]
    },
    {
     "name": "stdout",
     "output_type": "stream",
     "text": [
      "Epoch [22/150], Loss: 0.09833918511867523\n"
     ]
    },
    {
     "name": "stderr",
     "output_type": "stream",
     "text": [
      "100%|██████████| 40/40 [00:04<00:00,  8.45it/s]\n"
     ]
    },
    {
     "name": "stdout",
     "output_type": "stream",
     "text": [
      "Epoch [23/150], Loss: 0.0999348908662796\n"
     ]
    },
    {
     "name": "stderr",
     "output_type": "stream",
     "text": [
      "100%|██████████| 40/40 [00:04<00:00,  8.35it/s]\n"
     ]
    },
    {
     "name": "stdout",
     "output_type": "stream",
     "text": [
      "Epoch [24/150], Loss: 0.10086697340011597\n"
     ]
    },
    {
     "name": "stderr",
     "output_type": "stream",
     "text": [
      "100%|██████████| 40/40 [00:04<00:00,  8.42it/s]\n"
     ]
    },
    {
     "name": "stdout",
     "output_type": "stream",
     "text": [
      "Epoch [25/150], Loss: 0.10001533478498459\n"
     ]
    },
    {
     "name": "stderr",
     "output_type": "stream",
     "text": [
      "100%|██████████| 40/40 [00:04<00:00,  8.43it/s]\n"
     ]
    },
    {
     "name": "stdout",
     "output_type": "stream",
     "text": [
      "Epoch [26/150], Loss: 0.09632433950901031\n"
     ]
    },
    {
     "name": "stderr",
     "output_type": "stream",
     "text": [
      "100%|██████████| 40/40 [00:04<00:00,  8.39it/s]\n"
     ]
    },
    {
     "name": "stdout",
     "output_type": "stream",
     "text": [
      "Epoch [27/150], Loss: 0.10031243413686752\n"
     ]
    },
    {
     "name": "stderr",
     "output_type": "stream",
     "text": [
      "100%|██████████| 40/40 [00:04<00:00,  8.44it/s]\n"
     ]
    },
    {
     "name": "stdout",
     "output_type": "stream",
     "text": [
      "Epoch [28/150], Loss: 0.09837295114994049\n"
     ]
    },
    {
     "name": "stderr",
     "output_type": "stream",
     "text": [
      "100%|██████████| 40/40 [00:04<00:00,  8.36it/s]\n"
     ]
    },
    {
     "name": "stdout",
     "output_type": "stream",
     "text": [
      "Epoch [29/150], Loss: 0.09665432572364807\n"
     ]
    },
    {
     "name": "stderr",
     "output_type": "stream",
     "text": [
      "100%|██████████| 40/40 [00:04<00:00,  8.42it/s]\n"
     ]
    },
    {
     "name": "stdout",
     "output_type": "stream",
     "text": [
      "Epoch [30/150], Loss: 0.09967418015003204\n"
     ]
    },
    {
     "name": "stderr",
     "output_type": "stream",
     "text": [
      "100%|██████████| 40/40 [00:04<00:00,  8.39it/s]\n"
     ]
    },
    {
     "name": "stdout",
     "output_type": "stream",
     "text": [
      "Epoch [31/150], Loss: 0.09691896289587021\n"
     ]
    },
    {
     "name": "stderr",
     "output_type": "stream",
     "text": [
      "100%|██████████| 40/40 [00:04<00:00,  8.28it/s]\n"
     ]
    },
    {
     "name": "stdout",
     "output_type": "stream",
     "text": [
      "Epoch [32/150], Loss: 0.09907674789428711\n"
     ]
    },
    {
     "name": "stderr",
     "output_type": "stream",
     "text": [
      "100%|██████████| 40/40 [00:04<00:00,  8.41it/s]\n"
     ]
    },
    {
     "name": "stdout",
     "output_type": "stream",
     "text": [
      "Epoch [33/150], Loss: 0.09793907403945923\n"
     ]
    },
    {
     "name": "stderr",
     "output_type": "stream",
     "text": [
      "100%|██████████| 40/40 [00:04<00:00,  8.36it/s]\n"
     ]
    },
    {
     "name": "stdout",
     "output_type": "stream",
     "text": [
      "Epoch [34/150], Loss: 0.09727557748556137\n"
     ]
    },
    {
     "name": "stderr",
     "output_type": "stream",
     "text": [
      "100%|██████████| 40/40 [00:04<00:00,  8.45it/s]\n"
     ]
    },
    {
     "name": "stdout",
     "output_type": "stream",
     "text": [
      "Epoch [35/150], Loss: 0.09808389842510223\n"
     ]
    },
    {
     "name": "stderr",
     "output_type": "stream",
     "text": [
      "100%|██████████| 40/40 [00:04<00:00,  8.42it/s]\n"
     ]
    },
    {
     "name": "stdout",
     "output_type": "stream",
     "text": [
      "Epoch [36/150], Loss: 0.0940144956111908\n"
     ]
    },
    {
     "name": "stderr",
     "output_type": "stream",
     "text": [
      "100%|██████████| 40/40 [00:04<00:00,  8.42it/s]\n"
     ]
    },
    {
     "name": "stdout",
     "output_type": "stream",
     "text": [
      "Epoch [37/150], Loss: 0.09606426954269409\n"
     ]
    },
    {
     "name": "stderr",
     "output_type": "stream",
     "text": [
      "100%|██████████| 40/40 [00:04<00:00,  8.45it/s]\n"
     ]
    },
    {
     "name": "stdout",
     "output_type": "stream",
     "text": [
      "Epoch [38/150], Loss: 0.09471506625413895\n"
     ]
    },
    {
     "name": "stderr",
     "output_type": "stream",
     "text": [
      "100%|██████████| 40/40 [00:04<00:00,  8.45it/s]\n"
     ]
    },
    {
     "name": "stdout",
     "output_type": "stream",
     "text": [
      "Epoch [39/150], Loss: 0.09490226209163666\n"
     ]
    },
    {
     "name": "stderr",
     "output_type": "stream",
     "text": [
      "100%|██████████| 40/40 [00:04<00:00,  8.42it/s]\n"
     ]
    },
    {
     "name": "stdout",
     "output_type": "stream",
     "text": [
      "Epoch [40/150], Loss: 0.09490758180618286\n"
     ]
    },
    {
     "name": "stderr",
     "output_type": "stream",
     "text": [
      "100%|██████████| 40/40 [00:04<00:00,  8.42it/s]\n"
     ]
    },
    {
     "name": "stdout",
     "output_type": "stream",
     "text": [
      "Epoch [41/150], Loss: 0.09656652808189392\n"
     ]
    },
    {
     "name": "stderr",
     "output_type": "stream",
     "text": [
      "100%|██████████| 40/40 [00:04<00:00,  8.45it/s]\n"
     ]
    },
    {
     "name": "stdout",
     "output_type": "stream",
     "text": [
      "Epoch [42/150], Loss: 0.09659279882907867\n"
     ]
    },
    {
     "name": "stderr",
     "output_type": "stream",
     "text": [
      "100%|██████████| 40/40 [00:04<00:00,  8.44it/s]\n"
     ]
    },
    {
     "name": "stdout",
     "output_type": "stream",
     "text": [
      "Epoch [43/150], Loss: 0.09555938839912415\n"
     ]
    },
    {
     "name": "stderr",
     "output_type": "stream",
     "text": [
      "100%|██████████| 40/40 [00:04<00:00,  8.38it/s]\n"
     ]
    },
    {
     "name": "stdout",
     "output_type": "stream",
     "text": [
      "Epoch [44/150], Loss: 0.09559859335422516\n"
     ]
    },
    {
     "name": "stderr",
     "output_type": "stream",
     "text": [
      "100%|██████████| 40/40 [00:04<00:00,  8.30it/s]\n"
     ]
    },
    {
     "name": "stdout",
     "output_type": "stream",
     "text": [
      "Epoch [45/150], Loss: 0.09430981427431107\n"
     ]
    },
    {
     "name": "stderr",
     "output_type": "stream",
     "text": [
      "100%|██████████| 40/40 [00:04<00:00,  8.36it/s]\n"
     ]
    },
    {
     "name": "stdout",
     "output_type": "stream",
     "text": [
      "Epoch [46/150], Loss: 0.09513776004314423\n"
     ]
    },
    {
     "name": "stderr",
     "output_type": "stream",
     "text": [
      "100%|██████████| 40/40 [00:04<00:00,  8.18it/s]\n"
     ]
    },
    {
     "name": "stdout",
     "output_type": "stream",
     "text": [
      "Epoch [47/150], Loss: 0.0960778146982193\n"
     ]
    },
    {
     "name": "stderr",
     "output_type": "stream",
     "text": [
      "100%|██████████| 40/40 [00:04<00:00,  8.19it/s]\n"
     ]
    },
    {
     "name": "stdout",
     "output_type": "stream",
     "text": [
      "Epoch [48/150], Loss: 0.09557487070560455\n"
     ]
    },
    {
     "name": "stderr",
     "output_type": "stream",
     "text": [
      "100%|██████████| 40/40 [00:04<00:00,  8.22it/s]\n"
     ]
    },
    {
     "name": "stdout",
     "output_type": "stream",
     "text": [
      "Epoch [49/150], Loss: 0.09717792272567749\n"
     ]
    },
    {
     "name": "stderr",
     "output_type": "stream",
     "text": [
      "100%|██████████| 40/40 [00:04<00:00,  8.19it/s]\n"
     ]
    },
    {
     "name": "stdout",
     "output_type": "stream",
     "text": [
      "Epoch [50/150], Loss: 0.09658828377723694\n"
     ]
    },
    {
     "name": "stderr",
     "output_type": "stream",
     "text": [
      "100%|██████████| 40/40 [00:04<00:00,  8.16it/s]\n"
     ]
    },
    {
     "name": "stdout",
     "output_type": "stream",
     "text": [
      "Epoch [51/150], Loss: 0.09388862550258636\n"
     ]
    },
    {
     "name": "stderr",
     "output_type": "stream",
     "text": [
      "100%|██████████| 40/40 [00:04<00:00,  8.19it/s]\n"
     ]
    },
    {
     "name": "stdout",
     "output_type": "stream",
     "text": [
      "Epoch [52/150], Loss: 0.09410515427589417\n"
     ]
    },
    {
     "name": "stderr",
     "output_type": "stream",
     "text": [
      "100%|██████████| 40/40 [00:04<00:00,  8.19it/s]\n"
     ]
    },
    {
     "name": "stdout",
     "output_type": "stream",
     "text": [
      "Epoch [53/150], Loss: 0.0934162363409996\n"
     ]
    },
    {
     "name": "stderr",
     "output_type": "stream",
     "text": [
      "100%|██████████| 40/40 [00:04<00:00,  8.19it/s]\n"
     ]
    },
    {
     "name": "stdout",
     "output_type": "stream",
     "text": [
      "Epoch [54/150], Loss: 0.09318561851978302\n"
     ]
    },
    {
     "name": "stderr",
     "output_type": "stream",
     "text": [
      "100%|██████████| 40/40 [00:04<00:00,  8.19it/s]\n"
     ]
    },
    {
     "name": "stdout",
     "output_type": "stream",
     "text": [
      "Epoch [55/150], Loss: 0.09346670657396317\n"
     ]
    },
    {
     "name": "stderr",
     "output_type": "stream",
     "text": [
      "100%|██████████| 40/40 [00:04<00:00,  8.21it/s]\n"
     ]
    },
    {
     "name": "stdout",
     "output_type": "stream",
     "text": [
      "Epoch [56/150], Loss: 0.09558375924825668\n"
     ]
    },
    {
     "name": "stderr",
     "output_type": "stream",
     "text": [
      "100%|██████████| 40/40 [00:04<00:00,  8.28it/s]\n"
     ]
    },
    {
     "name": "stdout",
     "output_type": "stream",
     "text": [
      "Epoch [57/150], Loss: 0.09336009621620178\n"
     ]
    },
    {
     "name": "stderr",
     "output_type": "stream",
     "text": [
      "100%|██████████| 40/40 [00:04<00:00,  8.34it/s]\n"
     ]
    },
    {
     "name": "stdout",
     "output_type": "stream",
     "text": [
      "Epoch [58/150], Loss: 0.09417785704135895\n"
     ]
    },
    {
     "name": "stderr",
     "output_type": "stream",
     "text": [
      "100%|██████████| 40/40 [00:04<00:00,  8.21it/s]\n"
     ]
    },
    {
     "name": "stdout",
     "output_type": "stream",
     "text": [
      "Epoch [59/150], Loss: 0.09300635010004044\n"
     ]
    },
    {
     "name": "stderr",
     "output_type": "stream",
     "text": [
      "100%|██████████| 40/40 [00:04<00:00,  8.30it/s]\n"
     ]
    },
    {
     "name": "stdout",
     "output_type": "stream",
     "text": [
      "Epoch [60/150], Loss: 0.09417323768138885\n"
     ]
    },
    {
     "name": "stderr",
     "output_type": "stream",
     "text": [
      "100%|██████████| 40/40 [00:04<00:00,  8.31it/s]\n"
     ]
    },
    {
     "name": "stdout",
     "output_type": "stream",
     "text": [
      "Epoch [61/150], Loss: 0.09247585386037827\n"
     ]
    },
    {
     "name": "stderr",
     "output_type": "stream",
     "text": [
      "100%|██████████| 40/40 [00:04<00:00,  8.31it/s]\n"
     ]
    },
    {
     "name": "stdout",
     "output_type": "stream",
     "text": [
      "Epoch [62/150], Loss: 0.09249468147754669\n"
     ]
    },
    {
     "name": "stderr",
     "output_type": "stream",
     "text": [
      "100%|██████████| 40/40 [00:04<00:00,  8.28it/s]\n"
     ]
    },
    {
     "name": "stdout",
     "output_type": "stream",
     "text": [
      "Epoch [63/150], Loss: 0.09423616528511047\n"
     ]
    },
    {
     "name": "stderr",
     "output_type": "stream",
     "text": [
      "100%|██████████| 40/40 [00:04<00:00,  8.28it/s]\n"
     ]
    },
    {
     "name": "stdout",
     "output_type": "stream",
     "text": [
      "Epoch [64/150], Loss: 0.09187051653862\n"
     ]
    },
    {
     "name": "stderr",
     "output_type": "stream",
     "text": [
      "100%|██████████| 40/40 [00:04<00:00,  8.31it/s]\n"
     ]
    },
    {
     "name": "stdout",
     "output_type": "stream",
     "text": [
      "Epoch [65/150], Loss: 0.09290122240781784\n"
     ]
    },
    {
     "name": "stderr",
     "output_type": "stream",
     "text": [
      "100%|██████████| 40/40 [00:04<00:00,  8.30it/s]\n"
     ]
    },
    {
     "name": "stdout",
     "output_type": "stream",
     "text": [
      "Epoch [66/150], Loss: 0.09214219450950623\n"
     ]
    },
    {
     "name": "stderr",
     "output_type": "stream",
     "text": [
      "100%|██████████| 40/40 [00:04<00:00,  8.27it/s]\n"
     ]
    },
    {
     "name": "stdout",
     "output_type": "stream",
     "text": [
      "Epoch [67/150], Loss: 0.09162639826536179\n"
     ]
    },
    {
     "name": "stderr",
     "output_type": "stream",
     "text": [
      "100%|██████████| 40/40 [00:04<00:00,  8.30it/s]\n"
     ]
    },
    {
     "name": "stdout",
     "output_type": "stream",
     "text": [
      "Epoch [68/150], Loss: 0.09211017936468124\n"
     ]
    },
    {
     "name": "stderr",
     "output_type": "stream",
     "text": [
      "100%|██████████| 40/40 [00:04<00:00,  8.30it/s]\n"
     ]
    },
    {
     "name": "stdout",
     "output_type": "stream",
     "text": [
      "Epoch [69/150], Loss: 0.09143131971359253\n"
     ]
    },
    {
     "name": "stderr",
     "output_type": "stream",
     "text": [
      "100%|██████████| 40/40 [00:04<00:00,  8.31it/s]\n"
     ]
    },
    {
     "name": "stdout",
     "output_type": "stream",
     "text": [
      "Epoch [70/150], Loss: 0.0914214700460434\n"
     ]
    },
    {
     "name": "stderr",
     "output_type": "stream",
     "text": [
      "100%|██████████| 40/40 [00:04<00:00,  8.33it/s]\n"
     ]
    },
    {
     "name": "stdout",
     "output_type": "stream",
     "text": [
      "Epoch [71/150], Loss: 0.09133435785770416\n"
     ]
    },
    {
     "name": "stderr",
     "output_type": "stream",
     "text": [
      "100%|██████████| 40/40 [00:04<00:00,  8.30it/s]\n"
     ]
    },
    {
     "name": "stdout",
     "output_type": "stream",
     "text": [
      "Epoch [72/150], Loss: 0.09093162417411804\n"
     ]
    },
    {
     "name": "stderr",
     "output_type": "stream",
     "text": [
      "100%|██████████| 40/40 [00:04<00:00,  8.32it/s]\n"
     ]
    },
    {
     "name": "stdout",
     "output_type": "stream",
     "text": [
      "Epoch [73/150], Loss: 0.09057007730007172\n"
     ]
    },
    {
     "name": "stderr",
     "output_type": "stream",
     "text": [
      "100%|██████████| 40/40 [00:04<00:00,  8.32it/s]\n"
     ]
    },
    {
     "name": "stdout",
     "output_type": "stream",
     "text": [
      "Epoch [74/150], Loss: 0.09049874544143677\n"
     ]
    },
    {
     "name": "stderr",
     "output_type": "stream",
     "text": [
      "100%|██████████| 40/40 [00:04<00:00,  8.30it/s]\n"
     ]
    },
    {
     "name": "stdout",
     "output_type": "stream",
     "text": [
      "Epoch [75/150], Loss: 0.09267274290323257\n"
     ]
    },
    {
     "name": "stderr",
     "output_type": "stream",
     "text": [
      "100%|██████████| 40/40 [00:04<00:00,  8.30it/s]\n"
     ]
    },
    {
     "name": "stdout",
     "output_type": "stream",
     "text": [
      "Epoch [76/150], Loss: 0.09200479090213776\n"
     ]
    },
    {
     "name": "stderr",
     "output_type": "stream",
     "text": [
      "100%|██████████| 40/40 [00:04<00:00,  8.28it/s]\n"
     ]
    },
    {
     "name": "stdout",
     "output_type": "stream",
     "text": [
      "Epoch [77/150], Loss: 0.0904233455657959\n"
     ]
    },
    {
     "name": "stderr",
     "output_type": "stream",
     "text": [
      "100%|██████████| 40/40 [00:04<00:00,  8.28it/s]\n"
     ]
    },
    {
     "name": "stdout",
     "output_type": "stream",
     "text": [
      "Epoch [78/150], Loss: 0.09198202192783356\n"
     ]
    },
    {
     "name": "stderr",
     "output_type": "stream",
     "text": [
      "100%|██████████| 40/40 [00:04<00:00,  8.17it/s]\n"
     ]
    },
    {
     "name": "stdout",
     "output_type": "stream",
     "text": [
      "Epoch [79/150], Loss: 0.09080740064382553\n"
     ]
    },
    {
     "name": "stderr",
     "output_type": "stream",
     "text": [
      "100%|██████████| 40/40 [00:04<00:00,  8.28it/s]\n"
     ]
    },
    {
     "name": "stdout",
     "output_type": "stream",
     "text": [
      "Epoch [80/150], Loss: 0.08931874483823776\n"
     ]
    },
    {
     "name": "stderr",
     "output_type": "stream",
     "text": [
      "100%|██████████| 40/40 [00:04<00:00,  8.25it/s]\n"
     ]
    },
    {
     "name": "stdout",
     "output_type": "stream",
     "text": [
      "Epoch [81/150], Loss: 0.09020747989416122\n"
     ]
    },
    {
     "name": "stderr",
     "output_type": "stream",
     "text": [
      "100%|██████████| 40/40 [00:04<00:00,  8.28it/s]\n"
     ]
    },
    {
     "name": "stdout",
     "output_type": "stream",
     "text": [
      "Epoch [82/150], Loss: 0.09144675731658936\n"
     ]
    },
    {
     "name": "stderr",
     "output_type": "stream",
     "text": [
      "100%|██████████| 40/40 [00:04<00:00,  8.29it/s]\n"
     ]
    },
    {
     "name": "stdout",
     "output_type": "stream",
     "text": [
      "Epoch [83/150], Loss: 0.0915071964263916\n"
     ]
    },
    {
     "name": "stderr",
     "output_type": "stream",
     "text": [
      "100%|██████████| 40/40 [00:04<00:00,  8.31it/s]\n"
     ]
    },
    {
     "name": "stdout",
     "output_type": "stream",
     "text": [
      "Epoch [84/150], Loss: 0.089565709233284\n"
     ]
    },
    {
     "name": "stderr",
     "output_type": "stream",
     "text": [
      "100%|██████████| 40/40 [00:04<00:00,  8.30it/s]\n"
     ]
    },
    {
     "name": "stdout",
     "output_type": "stream",
     "text": [
      "Epoch [85/150], Loss: 0.08985497057437897\n"
     ]
    },
    {
     "name": "stderr",
     "output_type": "stream",
     "text": [
      "100%|██████████| 40/40 [00:04<00:00,  8.30it/s]\n"
     ]
    },
    {
     "name": "stdout",
     "output_type": "stream",
     "text": [
      "Epoch [86/150], Loss: 0.09138037264347076\n"
     ]
    },
    {
     "name": "stderr",
     "output_type": "stream",
     "text": [
      "100%|██████████| 40/40 [00:04<00:00,  8.30it/s]\n"
     ]
    },
    {
     "name": "stdout",
     "output_type": "stream",
     "text": [
      "Epoch [87/150], Loss: 0.09113222360610962\n"
     ]
    },
    {
     "name": "stderr",
     "output_type": "stream",
     "text": [
      "100%|██████████| 40/40 [00:04<00:00,  8.30it/s]\n"
     ]
    },
    {
     "name": "stdout",
     "output_type": "stream",
     "text": [
      "Epoch [88/150], Loss: 0.08882461488246918\n"
     ]
    },
    {
     "name": "stderr",
     "output_type": "stream",
     "text": [
      "100%|██████████| 40/40 [00:04<00:00,  8.27it/s]\n"
     ]
    },
    {
     "name": "stdout",
     "output_type": "stream",
     "text": [
      "Epoch [89/150], Loss: 0.0905705913901329\n"
     ]
    },
    {
     "name": "stderr",
     "output_type": "stream",
     "text": [
      "100%|██████████| 40/40 [00:04<00:00,  8.29it/s]\n"
     ]
    },
    {
     "name": "stdout",
     "output_type": "stream",
     "text": [
      "Epoch [90/150], Loss: 0.09029284119606018\n"
     ]
    },
    {
     "name": "stderr",
     "output_type": "stream",
     "text": [
      "100%|██████████| 40/40 [00:04<00:00,  8.29it/s]\n"
     ]
    },
    {
     "name": "stdout",
     "output_type": "stream",
     "text": [
      "Epoch [91/150], Loss: 0.08981262147426605\n"
     ]
    },
    {
     "name": "stderr",
     "output_type": "stream",
     "text": [
      "100%|██████████| 40/40 [00:04<00:00,  8.31it/s]\n"
     ]
    },
    {
     "name": "stdout",
     "output_type": "stream",
     "text": [
      "Epoch [92/150], Loss: 0.09035538136959076\n"
     ]
    },
    {
     "name": "stderr",
     "output_type": "stream",
     "text": [
      "100%|██████████| 40/40 [00:04<00:00,  8.28it/s]\n"
     ]
    },
    {
     "name": "stdout",
     "output_type": "stream",
     "text": [
      "Epoch [93/150], Loss: 0.09032540023326874\n"
     ]
    },
    {
     "name": "stderr",
     "output_type": "stream",
     "text": [
      "100%|██████████| 40/40 [00:04<00:00,  8.28it/s]\n"
     ]
    },
    {
     "name": "stdout",
     "output_type": "stream",
     "text": [
      "Epoch [94/150], Loss: 0.08926142752170563\n"
     ]
    },
    {
     "name": "stderr",
     "output_type": "stream",
     "text": [
      "100%|██████████| 40/40 [00:04<00:00,  8.28it/s]\n"
     ]
    },
    {
     "name": "stdout",
     "output_type": "stream",
     "text": [
      "Epoch [95/150], Loss: 0.08914214372634888\n"
     ]
    },
    {
     "name": "stderr",
     "output_type": "stream",
     "text": [
      "100%|██████████| 40/40 [00:04<00:00,  8.30it/s]\n"
     ]
    },
    {
     "name": "stdout",
     "output_type": "stream",
     "text": [
      "Epoch [96/150], Loss: 0.08974041044712067\n"
     ]
    },
    {
     "name": "stderr",
     "output_type": "stream",
     "text": [
      "100%|██████████| 40/40 [00:04<00:00,  8.28it/s]\n"
     ]
    },
    {
     "name": "stdout",
     "output_type": "stream",
     "text": [
      "Epoch [97/150], Loss: 0.09075130522251129\n"
     ]
    },
    {
     "name": "stderr",
     "output_type": "stream",
     "text": [
      "100%|██████████| 40/40 [00:04<00:00,  8.27it/s]\n"
     ]
    },
    {
     "name": "stdout",
     "output_type": "stream",
     "text": [
      "Epoch [98/150], Loss: 0.09095791727304459\n"
     ]
    },
    {
     "name": "stderr",
     "output_type": "stream",
     "text": [
      "100%|██████████| 40/40 [00:04<00:00,  8.29it/s]\n"
     ]
    },
    {
     "name": "stdout",
     "output_type": "stream",
     "text": [
      "Epoch [99/150], Loss: 0.08896609395742416\n"
     ]
    },
    {
     "name": "stderr",
     "output_type": "stream",
     "text": [
      "100%|██████████| 40/40 [00:04<00:00,  8.28it/s]\n"
     ]
    },
    {
     "name": "stdout",
     "output_type": "stream",
     "text": [
      "Epoch [100/150], Loss: 0.08815433084964752\n"
     ]
    },
    {
     "name": "stderr",
     "output_type": "stream",
     "text": [
      "100%|██████████| 40/40 [00:04<00:00,  8.28it/s]\n"
     ]
    },
    {
     "name": "stdout",
     "output_type": "stream",
     "text": [
      "Epoch [101/150], Loss: 0.0906980037689209\n"
     ]
    },
    {
     "name": "stderr",
     "output_type": "stream",
     "text": [
      "100%|██████████| 40/40 [00:04<00:00,  8.28it/s]\n"
     ]
    },
    {
     "name": "stdout",
     "output_type": "stream",
     "text": [
      "Epoch [102/150], Loss: 0.08938439190387726\n"
     ]
    },
    {
     "name": "stderr",
     "output_type": "stream",
     "text": [
      "100%|██████████| 40/40 [00:04<00:00,  8.28it/s]\n"
     ]
    },
    {
     "name": "stdout",
     "output_type": "stream",
     "text": [
      "Epoch [103/150], Loss: 0.090073361992836\n"
     ]
    },
    {
     "name": "stderr",
     "output_type": "stream",
     "text": [
      "100%|██████████| 40/40 [00:04<00:00,  8.28it/s]\n"
     ]
    },
    {
     "name": "stdout",
     "output_type": "stream",
     "text": [
      "Epoch [104/150], Loss: 0.08830541372299194\n"
     ]
    },
    {
     "name": "stderr",
     "output_type": "stream",
     "text": [
      "100%|██████████| 40/40 [00:04<00:00,  8.28it/s]\n"
     ]
    },
    {
     "name": "stdout",
     "output_type": "stream",
     "text": [
      "Epoch [105/150], Loss: 0.09010913968086243\n"
     ]
    },
    {
     "name": "stderr",
     "output_type": "stream",
     "text": [
      "100%|██████████| 40/40 [00:04<00:00,  8.25it/s]\n"
     ]
    },
    {
     "name": "stdout",
     "output_type": "stream",
     "text": [
      "Epoch [106/150], Loss: 0.08899199217557907\n"
     ]
    },
    {
     "name": "stderr",
     "output_type": "stream",
     "text": [
      "100%|██████████| 40/40 [00:04<00:00,  8.28it/s]\n"
     ]
    },
    {
     "name": "stdout",
     "output_type": "stream",
     "text": [
      "Epoch [107/150], Loss: 0.08929117023944855\n"
     ]
    },
    {
     "name": "stderr",
     "output_type": "stream",
     "text": [
      "100%|██████████| 40/40 [00:04<00:00,  8.28it/s]\n"
     ]
    },
    {
     "name": "stdout",
     "output_type": "stream",
     "text": [
      "Epoch [108/150], Loss: 0.08829374611377716\n"
     ]
    },
    {
     "name": "stderr",
     "output_type": "stream",
     "text": [
      "100%|██████████| 40/40 [00:04<00:00,  8.28it/s]\n"
     ]
    },
    {
     "name": "stdout",
     "output_type": "stream",
     "text": [
      "Epoch [109/150], Loss: 0.08860025554895401\n"
     ]
    },
    {
     "name": "stderr",
     "output_type": "stream",
     "text": [
      "100%|██████████| 40/40 [00:04<00:00,  8.28it/s]\n"
     ]
    },
    {
     "name": "stdout",
     "output_type": "stream",
     "text": [
      "Epoch [110/150], Loss: 0.08995968848466873\n"
     ]
    },
    {
     "name": "stderr",
     "output_type": "stream",
     "text": [
      "100%|██████████| 40/40 [00:04<00:00,  8.30it/s]\n"
     ]
    },
    {
     "name": "stdout",
     "output_type": "stream",
     "text": [
      "Epoch [111/150], Loss: 0.08896751701831818\n"
     ]
    },
    {
     "name": "stderr",
     "output_type": "stream",
     "text": [
      "100%|██████████| 40/40 [00:04<00:00,  8.28it/s]\n"
     ]
    },
    {
     "name": "stdout",
     "output_type": "stream",
     "text": [
      "Epoch [112/150], Loss: 0.0898740366101265\n"
     ]
    },
    {
     "name": "stderr",
     "output_type": "stream",
     "text": [
      "100%|██████████| 40/40 [00:04<00:00,  8.28it/s]\n"
     ]
    },
    {
     "name": "stdout",
     "output_type": "stream",
     "text": [
      "Epoch [113/150], Loss: 0.09069259464740753\n"
     ]
    },
    {
     "name": "stderr",
     "output_type": "stream",
     "text": [
      "100%|██████████| 40/40 [00:04<00:00,  8.28it/s]\n"
     ]
    },
    {
     "name": "stdout",
     "output_type": "stream",
     "text": [
      "Epoch [114/150], Loss: 0.08871080726385117\n"
     ]
    },
    {
     "name": "stderr",
     "output_type": "stream",
     "text": [
      "100%|██████████| 40/40 [00:04<00:00,  8.28it/s]\n"
     ]
    },
    {
     "name": "stdout",
     "output_type": "stream",
     "text": [
      "Epoch [115/150], Loss: 0.08977356553077698\n"
     ]
    },
    {
     "name": "stderr",
     "output_type": "stream",
     "text": [
      "100%|██████████| 40/40 [00:04<00:00,  8.29it/s]\n"
     ]
    },
    {
     "name": "stdout",
     "output_type": "stream",
     "text": [
      "Epoch [116/150], Loss: 0.08982495963573456\n"
     ]
    },
    {
     "name": "stderr",
     "output_type": "stream",
     "text": [
      "100%|██████████| 40/40 [00:04<00:00,  8.31it/s]\n"
     ]
    },
    {
     "name": "stdout",
     "output_type": "stream",
     "text": [
      "Epoch [117/150], Loss: 0.088115394115448\n"
     ]
    },
    {
     "name": "stderr",
     "output_type": "stream",
     "text": [
      "100%|██████████| 40/40 [00:04<00:00,  8.28it/s]\n"
     ]
    },
    {
     "name": "stdout",
     "output_type": "stream",
     "text": [
      "Epoch [118/150], Loss: 0.08915579319000244\n"
     ]
    },
    {
     "name": "stderr",
     "output_type": "stream",
     "text": [
      "100%|██████████| 40/40 [00:04<00:00,  8.28it/s]\n"
     ]
    },
    {
     "name": "stdout",
     "output_type": "stream",
     "text": [
      "Epoch [119/150], Loss: 0.08838476240634918\n"
     ]
    },
    {
     "name": "stderr",
     "output_type": "stream",
     "text": [
      "100%|██████████| 40/40 [00:04<00:00,  8.24it/s]\n"
     ]
    },
    {
     "name": "stdout",
     "output_type": "stream",
     "text": [
      "Epoch [120/150], Loss: 0.08749952912330627\n"
     ]
    },
    {
     "name": "stderr",
     "output_type": "stream",
     "text": [
      "100%|██████████| 40/40 [00:04<00:00,  8.30it/s]\n"
     ]
    },
    {
     "name": "stdout",
     "output_type": "stream",
     "text": [
      "Epoch [121/150], Loss: 0.08913280814886093\n"
     ]
    },
    {
     "name": "stderr",
     "output_type": "stream",
     "text": [
      "100%|██████████| 40/40 [00:04<00:00,  8.33it/s]\n"
     ]
    },
    {
     "name": "stdout",
     "output_type": "stream",
     "text": [
      "Epoch [122/150], Loss: 0.08832505345344543\n"
     ]
    },
    {
     "name": "stderr",
     "output_type": "stream",
     "text": [
      "100%|██████████| 40/40 [00:04<00:00,  8.31it/s]\n"
     ]
    },
    {
     "name": "stdout",
     "output_type": "stream",
     "text": [
      "Epoch [123/150], Loss: 0.08819405734539032\n"
     ]
    },
    {
     "name": "stderr",
     "output_type": "stream",
     "text": [
      "100%|██████████| 40/40 [00:04<00:00,  8.31it/s]\n"
     ]
    },
    {
     "name": "stdout",
     "output_type": "stream",
     "text": [
      "Epoch [124/150], Loss: 0.08829766511917114\n"
     ]
    },
    {
     "name": "stderr",
     "output_type": "stream",
     "text": [
      "100%|██████████| 40/40 [00:04<00:00,  8.33it/s]\n"
     ]
    },
    {
     "name": "stdout",
     "output_type": "stream",
     "text": [
      "Epoch [125/150], Loss: 0.08912776410579681\n"
     ]
    },
    {
     "name": "stderr",
     "output_type": "stream",
     "text": [
      "100%|██████████| 40/40 [00:04<00:00,  8.33it/s]\n"
     ]
    },
    {
     "name": "stdout",
     "output_type": "stream",
     "text": [
      "Epoch [126/150], Loss: 0.08792044967412949\n"
     ]
    },
    {
     "name": "stderr",
     "output_type": "stream",
     "text": [
      "100%|██████████| 40/40 [00:04<00:00,  8.32it/s]\n"
     ]
    },
    {
     "name": "stdout",
     "output_type": "stream",
     "text": [
      "Epoch [127/150], Loss: 0.08815258741378784\n"
     ]
    },
    {
     "name": "stderr",
     "output_type": "stream",
     "text": [
      "100%|██████████| 40/40 [00:04<00:00,  8.25it/s]\n"
     ]
    },
    {
     "name": "stdout",
     "output_type": "stream",
     "text": [
      "Epoch [128/150], Loss: 0.08851735293865204\n"
     ]
    },
    {
     "name": "stderr",
     "output_type": "stream",
     "text": [
      "100%|██████████| 40/40 [00:04<00:00,  8.25it/s]\n"
     ]
    },
    {
     "name": "stdout",
     "output_type": "stream",
     "text": [
      "Epoch [129/150], Loss: 0.08688648790121078\n"
     ]
    },
    {
     "name": "stderr",
     "output_type": "stream",
     "text": [
      "100%|██████████| 40/40 [00:04<00:00,  8.22it/s]\n"
     ]
    },
    {
     "name": "stdout",
     "output_type": "stream",
     "text": [
      "Epoch [130/150], Loss: 0.0877450555562973\n"
     ]
    },
    {
     "name": "stderr",
     "output_type": "stream",
     "text": [
      "100%|██████████| 40/40 [00:04<00:00,  8.30it/s]\n"
     ]
    },
    {
     "name": "stdout",
     "output_type": "stream",
     "text": [
      "Epoch [131/150], Loss: 0.08826449513435364\n"
     ]
    },
    {
     "name": "stderr",
     "output_type": "stream",
     "text": [
      "100%|██████████| 40/40 [00:04<00:00,  8.30it/s]\n"
     ]
    },
    {
     "name": "stdout",
     "output_type": "stream",
     "text": [
      "Epoch [132/150], Loss: 0.08965949714183807\n"
     ]
    },
    {
     "name": "stderr",
     "output_type": "stream",
     "text": [
      "100%|██████████| 40/40 [00:04<00:00,  8.31it/s]\n"
     ]
    },
    {
     "name": "stdout",
     "output_type": "stream",
     "text": [
      "Epoch [133/150], Loss: 0.08818267285823822\n"
     ]
    },
    {
     "name": "stderr",
     "output_type": "stream",
     "text": [
      "100%|██████████| 40/40 [00:04<00:00,  8.30it/s]\n"
     ]
    },
    {
     "name": "stdout",
     "output_type": "stream",
     "text": [
      "Epoch [134/150], Loss: 0.08871874958276749\n"
     ]
    },
    {
     "name": "stderr",
     "output_type": "stream",
     "text": [
      "100%|██████████| 40/40 [00:04<00:00,  8.30it/s]\n"
     ]
    },
    {
     "name": "stdout",
     "output_type": "stream",
     "text": [
      "Epoch [135/150], Loss: 0.08780078589916229\n"
     ]
    },
    {
     "name": "stderr",
     "output_type": "stream",
     "text": [
      "100%|██████████| 40/40 [00:04<00:00,  8.30it/s]\n"
     ]
    },
    {
     "name": "stdout",
     "output_type": "stream",
     "text": [
      "Epoch [136/150], Loss: 0.08795639872550964\n"
     ]
    },
    {
     "name": "stderr",
     "output_type": "stream",
     "text": [
      "100%|██████████| 40/40 [00:04<00:00,  8.33it/s]\n"
     ]
    },
    {
     "name": "stdout",
     "output_type": "stream",
     "text": [
      "Epoch [137/150], Loss: 0.08730804920196533\n"
     ]
    },
    {
     "name": "stderr",
     "output_type": "stream",
     "text": [
      "100%|██████████| 40/40 [00:04<00:00,  8.30it/s]\n"
     ]
    },
    {
     "name": "stdout",
     "output_type": "stream",
     "text": [
      "Epoch [138/150], Loss: 0.08827397227287292\n"
     ]
    },
    {
     "name": "stderr",
     "output_type": "stream",
     "text": [
      "100%|██████████| 40/40 [00:04<00:00,  8.31it/s]\n"
     ]
    },
    {
     "name": "stdout",
     "output_type": "stream",
     "text": [
      "Epoch [139/150], Loss: 0.08857955038547516\n"
     ]
    },
    {
     "name": "stderr",
     "output_type": "stream",
     "text": [
      "100%|██████████| 40/40 [00:04<00:00,  8.30it/s]\n"
     ]
    },
    {
     "name": "stdout",
     "output_type": "stream",
     "text": [
      "Epoch [140/150], Loss: 0.08821044862270355\n"
     ]
    },
    {
     "name": "stderr",
     "output_type": "stream",
     "text": [
      "100%|██████████| 40/40 [00:04<00:00,  8.31it/s]\n"
     ]
    },
    {
     "name": "stdout",
     "output_type": "stream",
     "text": [
      "Epoch [141/150], Loss: 0.08736184984445572\n"
     ]
    },
    {
     "name": "stderr",
     "output_type": "stream",
     "text": [
      "100%|██████████| 40/40 [00:04<00:00,  8.30it/s]\n"
     ]
    },
    {
     "name": "stdout",
     "output_type": "stream",
     "text": [
      "Epoch [142/150], Loss: 0.0889926552772522\n"
     ]
    },
    {
     "name": "stderr",
     "output_type": "stream",
     "text": [
      "100%|██████████| 40/40 [00:04<00:00,  8.31it/s]\n"
     ]
    },
    {
     "name": "stdout",
     "output_type": "stream",
     "text": [
      "Epoch [143/150], Loss: 0.08755426853895187\n"
     ]
    },
    {
     "name": "stderr",
     "output_type": "stream",
     "text": [
      "100%|██████████| 40/40 [00:04<00:00,  8.30it/s]\n"
     ]
    },
    {
     "name": "stdout",
     "output_type": "stream",
     "text": [
      "Epoch [144/150], Loss: 0.08807873725891113\n"
     ]
    },
    {
     "name": "stderr",
     "output_type": "stream",
     "text": [
      "100%|██████████| 40/40 [00:04<00:00,  8.31it/s]\n"
     ]
    },
    {
     "name": "stdout",
     "output_type": "stream",
     "text": [
      "Epoch [145/150], Loss: 0.08796592056751251\n"
     ]
    },
    {
     "name": "stderr",
     "output_type": "stream",
     "text": [
      "100%|██████████| 40/40 [00:04<00:00,  8.32it/s]\n"
     ]
    },
    {
     "name": "stdout",
     "output_type": "stream",
     "text": [
      "Epoch [146/150], Loss: 0.08635314553976059\n"
     ]
    },
    {
     "name": "stderr",
     "output_type": "stream",
     "text": [
      "100%|██████████| 40/40 [00:04<00:00,  8.33it/s]\n"
     ]
    },
    {
     "name": "stdout",
     "output_type": "stream",
     "text": [
      "Epoch [147/150], Loss: 0.0875760018825531\n"
     ]
    },
    {
     "name": "stderr",
     "output_type": "stream",
     "text": [
      "100%|██████████| 40/40 [00:04<00:00,  8.33it/s]\n"
     ]
    },
    {
     "name": "stdout",
     "output_type": "stream",
     "text": [
      "Epoch [148/150], Loss: 0.08816035091876984\n"
     ]
    },
    {
     "name": "stderr",
     "output_type": "stream",
     "text": [
      "100%|██████████| 40/40 [00:04<00:00,  8.30it/s]\n"
     ]
    },
    {
     "name": "stdout",
     "output_type": "stream",
     "text": [
      "Epoch [149/150], Loss: 0.08783361315727234\n"
     ]
    },
    {
     "name": "stderr",
     "output_type": "stream",
     "text": [
      "100%|██████████| 40/40 [00:04<00:00,  8.31it/s]\n"
     ]
    },
    {
     "name": "stdout",
     "output_type": "stream",
     "text": [
      "Epoch [150/150], Loss: 0.08841387927532196\n"
     ]
    }
   ],
   "source": [
    "num_epochs = 150\n",
    "\n",
    "losses = []\n",
    "\n",
    "lambda_rmse = 0.9\n",
    "lambda_sam = 0.4\n",
    "\n",
    "for epoch in range(num_epochs):\n",
    "    # for hr_batch, lr_batch in tqdm(zip(hr_data_loader, lr_data_loader), total=len(hr_data_loader)):\n",
    "    for hr_batch, lr_batch in tqdm(data_loader, total=len(data_loader)):\n",
    "        hr_batch = hr_batch.to(device)\n",
    "        lr_batch = lr_batch.to(device)\n",
    "\n",
    "        optimizer.zero_grad()\n",
    "\n",
    "        sr_batch = encoder(lr_batch)\n",
    "\n",
    "        rmse_loss_value = rmse_loss(sr_batch, hr_batch)\n",
    "        sam_loss_value = sam_loss(sr_batch, hr_batch)\n",
    "\n",
    "        loss = lambda_rmse*rmse_loss_value + lambda_sam*sam_loss_value\n",
    "\n",
    "        loss.backward()\n",
    "        optimizer.step()\n",
    "\n",
    "    losses.append(loss.item())\n",
    "    print(f\"Epoch [{epoch+1}/{num_epochs}], Loss: {loss.item()}\")\n"
   ]
  },
  {
   "cell_type": "code",
   "execution_count": 39,
   "id": "6ce187a3",
   "metadata": {},
   "outputs": [
    {
     "data": {
      "image/png": "[encoded data removed]",
      "text/plain": [
       "<Figure size 640x480 with 1 Axes>"
      ]
     },
     "metadata": {},
     "output_type": "display_data"
    }
   ],
   "source": [
    "plt.plot(range(1, num_epochs + 1), losses, label='Training Loss')\n",
    "plt.xlabel('Epoch')\n",
    "plt.ylabel('Loss')\n",
    "plt.title('Training Loss vs. Epoch')\n",
    "plt.legend()\n",
    "plt.show()"
   ]
  },
  {
   "cell_type": "markdown",
   "id": "27a0b1b4",
   "metadata": {},
   "source": [
    "# TESTING ON TRAINING SAMPLE"
   ]
  },
  {
   "cell_type": "code",
   "execution_count": 40,
   "id": "03e76a4a",
   "metadata": {},
   "outputs": [
    {
     "name": "stderr",
     "output_type": "stream",
     "text": [
      "C:\\Users\\DELL\\AppData\\Local\\Temp\\ipykernel_14092\\896921902.py:4: UserWarning: To copy construct from a tensor, it is recommended to use sourceTensor.clone().detach() or sourceTensor.clone().detach().requires_grad_(True), rather than torch.tensor(sourceTensor).\n",
      "  lr_patch_tensor = torch.tensor(lr_patch, dtype=torch.float32).unsqueeze(0).to(device)\n"
     ]
    }
   ],
   "source": [
    "encoder.eval()\n",
    "\n",
    "lr_patch = bilinear_lr_patches_tensor[6]\n",
    "lr_patch_tensor = torch.tensor(lr_patch, dtype=torch.float32).unsqueeze(0).to(device)\n",
    "\n",
    "with torch.no_grad():\n",
    "  sr_patch = encoder( lr_patch_tensor)\n",
    "\n",
    "sr_patch = sr_patch.cpu().squeeze().numpy()\n",
    "\n",
    "lr_patch_np = lr_patch_tensor.squeeze().cpu().numpy()"
   ]
  },
  {
   "cell_type": "code",
   "execution_count": 41,
   "id": "5a3977b0",
   "metadata": {},
   "outputs": [
    {
     "name": "stderr",
     "output_type": "stream",
     "text": [
      "C:\\Users\\DELL\\AppData\\Local\\Temp\\ipykernel_14092\\1955361995.py:2: UserWarning: To copy construct from a tensor, it is recommended to use sourceTensor.clone().detach() or sourceTensor.clone().detach().requires_grad_(True), rather than torch.tensor(sourceTensor).\n",
      "  hr_patch_tensor = torch.tensor(hr_patch, dtype=torch.float32).unsqueeze(0).to(device)\n"
     ]
    }
   ],
   "source": [
    "hr_patch = hr_patches_tensor[6]\n",
    "hr_patch_tensor = torch.tensor(hr_patch, dtype=torch.float32).unsqueeze(0).to(device)\n",
    "hr_patch_np = hr_patch_tensor.squeeze().cpu().numpy()"
   ]
  },
  {
   "cell_type": "code",
   "execution_count": 42,
   "id": "d2a78e71",
   "metadata": {},
   "outputs": [
    {
     "data": {
      "image/png": "[encoded data removed]",
      "text/plain": [
       "<Figure size 300x300 with 1 Axes>"
      ]
     },
     "metadata": {},
     "output_type": "display_data"
    },
    {
     "data": {
      "image/png": "[encoded data removed]",
      "text/plain": [
       "<Figure size 300x300 with 1 Axes>"
      ]
     },
     "metadata": {},
     "output_type": "display_data"
    },
    {
     "data": {
      "image/png": "[encoded data removed]",
      "text/plain": [
       "<Figure size 300x300 with 1 Axes>"
      ]
     },
     "metadata": {},
     "output_type": "display_data"
    }
   ],
   "source": [
    "# Plot the HR patch\n",
    "plt.figure(figsize=(3, 3))\n",
    "plt.imshow(hr_patch_np[5, :, :], cmap='gray')\n",
    "plt.title('HR patch')\n",
    "plt.axis('off')\n",
    "plt.show()\n",
    "\n",
    "# Plot the LR patch\n",
    "plt.figure(figsize=(3, 3))\n",
    "plt.imshow(lr_patch_np[5,:,:], cmap='gray')\n",
    "plt.title('LR patch')\n",
    "plt.axis('off')\n",
    "plt.show()\n",
    "\n",
    "# Plot the SR patch\n",
    "plt.figure(figsize=(3, 3))\n",
    "plt.imshow(sr_patch[5,:,:], cmap='gray')\n",
    "plt.title('SR patch')\n",
    "plt.axis('off')\n",
    "plt.show()"
   ]
  },
  {
   "cell_type": "code",
   "execution_count": 43,
   "id": "5b14c70b",
   "metadata": {},
   "outputs": [
    {
     "name": "stdout",
     "output_type": "stream",
     "text": [
      "PSNR: 25.69442539088804\n",
      "RMSE: 0.051913317385838265\n",
      "SAM: 6.2476397\n"
     ]
    }
   ],
   "source": [
    "import numpy as np\n",
    "from skimage.metrics import peak_signal_noise_ratio, mean_squared_error\n",
    "\n",
    "def psnr_rmse_sam(image1, image2):\n",
    "    # Calculate PSNR and RMSE\n",
    "    psnr = peak_signal_noise_ratio(image1, image2, data_range=hr_patch_np.max())\n",
    "    rmse = np.sqrt(mean_squared_error(image1, image2))\n",
    "\n",
    "    # Flatten the images\n",
    "    image1_flat = image1.reshape(-1, 200)\n",
    "    image2_flat = image2.reshape(-1, 200)\n",
    "\n",
    "    # Calculate SAM\n",
    "    numerator = np.sum(image1_flat * image2_flat, axis=1)\n",
    "    denominator = np.sqrt(np.sum(image1_flat ** 2, axis=1) * np.sum(image2_flat ** 2, axis=1))\n",
    "    sam = np.arccos(np.clip(numerator / denominator, -1.0, 1.0)) * (180 / np.pi)  # Convert to degrees\n",
    "\n",
    "    return psnr, rmse, np.mean(sam)\n",
    "\n",
    "\n",
    "psnr_value, rmse_value, sam_value = psnr_rmse_sam(hr_patch_np, sr_patch)\n",
    "print(\"PSNR:\", psnr_value)\n",
    "print(\"RMSE:\", rmse_value)\n",
    "print(\"SAM:\", sam_value)\n"
   ]
  },
  {
   "cell_type": "markdown",
   "id": "deef0ab3",
   "metadata": {},
   "source": [
    "# TESTING ON TEST SET\n"
   ]
  },
  {
   "cell_type": "code",
   "execution_count": 44,
   "id": "8d6bc48b",
   "metadata": {},
   "outputs": [
    {
     "name": "stderr",
     "output_type": "stream",
     "text": [
      "C:\\Users\\DELL\\AppData\\Local\\Temp\\ipykernel_14092\\3932173187.py:4: UserWarning: To copy construct from a tensor, it is recommended to use sourceTensor.clone().detach() or sourceTensor.clone().detach().requires_grad_(True), rather than torch.tensor(sourceTensor).\n",
      "  lr_patch_tensor = torch.tensor(lr_patch, dtype=torch.float32).unsqueeze(0).to(device)\n"
     ]
    }
   ],
   "source": [
    "encoder.eval()\n",
    "\n",
    "lr_patch = test_bilinear_lr_patches_tensor[20]\n",
    "lr_patch_tensor = torch.tensor(lr_patch, dtype=torch.float32).unsqueeze(0).to(device)\n",
    "\n",
    "with torch.no_grad():\n",
    "  sr_patch = encoder( lr_patch_tensor)\n",
    "\n",
    "sr_patch = sr_patch.cpu().squeeze().numpy()\n",
    "\n",
    "lr_patch_np = lr_patch_tensor.squeeze().cpu().numpy()"
   ]
  },
  {
   "cell_type": "code",
   "execution_count": 45,
   "id": "3e4f1438",
   "metadata": {},
   "outputs": [
    {
     "name": "stderr",
     "output_type": "stream",
     "text": [
      "C:\\Users\\DELL\\AppData\\Local\\Temp\\ipykernel_14092\\951927354.py:2: UserWarning: To copy construct from a tensor, it is recommended to use sourceTensor.clone().detach() or sourceTensor.clone().detach().requires_grad_(True), rather than torch.tensor(sourceTensor).\n",
      "  hr_patch_tensor = torch.tensor(hr_patch, dtype=torch.float32).unsqueeze(0).to(device)\n"
     ]
    }
   ],
   "source": [
    "hr_patch = test_hr_patches_tensor[20]\n",
    "hr_patch_tensor = torch.tensor(hr_patch, dtype=torch.float32).unsqueeze(0).to(device)\n",
    "hr_patch_np = hr_patch_tensor.squeeze().cpu().numpy()"
   ]
  },
  {
   "cell_type": "code",
   "execution_count": 46,
   "id": "3d458f04",
   "metadata": {},
   "outputs": [
    {
     "data": {
      "image/png": "[encoded data removed]",
      "text/plain": [
       "<Figure size 300x300 with 1 Axes>"
      ]
     },
     "metadata": {},
     "output_type": "display_data"
    },
    {
     "data": {
      "image/png": "[encoded data removed]",
      "text/plain": [
       "<Figure size 300x300 with 1 Axes>"
      ]
     },
     "metadata": {},
     "output_type": "display_data"
    },
    {
     "data": {
      "image/png": "[encoded data removed]",
      "text/plain": [
       "<Figure size 300x300 with 1 Axes>"
      ]
     },
     "metadata": {},
     "output_type": "display_data"
    }
   ],
   "source": [
    "# Plot the HR patch\n",
    "plt.figure(figsize=(3, 3))\n",
    "plt.imshow(hr_patch_np[5, :, :], cmap='gray')\n",
    "plt.title('HR patch')\n",
    "plt.axis('off')\n",
    "plt.show()\n",
    "\n",
    "# Plot the LR patch\n",
    "plt.figure(figsize=(3, 3))\n",
    "plt.imshow(lr_patch_np[5,:,:], cmap='gray')\n",
    "plt.title('LR patch')\n",
    "plt.axis('off')\n",
    "plt.show()\n",
    "\n",
    "# Plot the SR patch\n",
    "plt.figure(figsize=(3, 3))\n",
    "plt.imshow(sr_patch[5,:,:], cmap='gray')\n",
    "plt.title('SR patch')\n",
    "plt.axis('off')\n",
    "plt.show()"
   ]
  },
  {
   "cell_type": "code",
   "execution_count": 47,
   "id": "8bcb6d0f",
   "metadata": {},
   "outputs": [
    {
     "name": "stdout",
     "output_type": "stream",
     "text": [
      "PSNR: 26.73675931489987\n",
      "RMSE: 0.04604283262702905\n",
      "SAM: 5.9974585\n"
     ]
    }
   ],
   "source": [
    "import numpy as np\n",
    "from skimage.metrics import peak_signal_noise_ratio, mean_squared_error\n",
    "\n",
    "def psnr_rmse_sam(image1, image2):\n",
    "    # Calculate PSNR and RMSE\n",
    "    psnr = peak_signal_noise_ratio(image1, image2, data_range=hr_patch_np.max())\n",
    "    rmse = np.sqrt(mean_squared_error(image1, image2))\n",
    "\n",
    "    # Flatten the images\n",
    "    image1_flat = image1.reshape(-1, 200)\n",
    "    image2_flat = image2.reshape(-1, 200)\n",
    "\n",
    "    # Calculate SAM\n",
    "    numerator = np.sum(image1_flat * image2_flat, axis=1)\n",
    "    denominator = np.sqrt(np.sum(image1_flat ** 2, axis=1) * np.sum(image2_flat ** 2, axis=1))\n",
    "    sam = np.arccos(np.clip(numerator / denominator, -1.0, 1.0)) * (180 / np.pi)  # Convert to degrees\n",
    "\n",
    "    return psnr, rmse, np.mean(sam)\n",
    "\n",
    "\n",
    "psnr_value, rmse_value, sam_value = psnr_rmse_sam(hr_patch_np, sr_patch)\n",
    "print(\"PSNR:\", psnr_value)\n",
    "print(\"RMSE:\", rmse_value)\n",
    "print(\"SAM:\", sam_value)\n"
   ]
  },
  {
   "cell_type": "code",
   "execution_count": 48,
   "id": "e987e66b",
   "metadata": {},
   "outputs": [],
   "source": [
    "torch.save(encoder.state_dict(), 'D:\\\\Hemanth\\\\autoencoder\\\\saved models\\\\autoencoder_75per.pth')"
   ]
  }
 ],
 "metadata": {
  "kernelspec": {
   "display_name": "new_tarun_venv",
   "language": "python",
   "name": "python3"
  },
  "language_info": {
   "codemirror_mode": {
    "name": "ipython",
    "version": 3
   },
   "file_extension": ".py",
   "mimetype": "text/x-python",
   "name": "python",
   "nbconvert_exporter": "python",
   "pygments_lexer": "ipython3",
   "version": "3.12.2"
  }
 },
 "nbformat": 4,
 "nbformat_minor": 5
}
